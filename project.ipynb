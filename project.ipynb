{
 "cells": [
  {
   "cell_type": "markdown",
   "metadata": {},
   "source": [
    "# Data Mining Project\n",
    "## Konstantinos Georgiou\n",
    "Dataset: [COVID-19 World Vaccination Progress](https://www.kaggle.com/gpreda/covid-world-vaccination-progress)"
   ]
  },
  {
   "cell_type": "markdown",
   "metadata": {},
   "source": [
    "## Information About The Dataset\n",
    "\n",
    "This dataset contains information about the vaccinations happening in each country daily. The data are being collected almost daily from this website using this code. As of writing this (2/27), the dataset has 4,380 rows with vaccination data for 112 unique countries and is in the CSV format.\n",
    "\n",
    "It has 15 columns in total, including among others the country name, the daily vaccination, the vaccinated people per million that date, and the source of each record."
   ]
  },
  {
   "cell_type": "markdown",
   "metadata": {},
   "source": [
    "## Questions To Be Answered\n",
    "\n",
    "- Can you identify countries that faced bottlenecks on their daily vaccination rates?\n",
    "- Can you cluster together countries that faced similar bottlenecks? In what sense are they related?\n",
    "- Can you enrich the data with more info (country location, GDP, etc) to achieve better results on the previous question?\n",
    "- Can you track down the bottlenecks and find patterns in how they propagate from day to day from one cluster to another?\n",
    "- Can you predict future bottlenecks on some clusters based on these patterns?"
   ]
  },
  {
   "cell_type": "markdown",
   "metadata": {},
   "source": [
    "## Some details\n",
    "- To setup this project on any machine, just run `make install`. More details in the [Readme](README.md).\n",
    "- To download the latest version of the dataset (new rows are added every day), run `make download_dataset`\n",
    "- The dataset is in the <a>datasets/covid-world-vaccinations-progress</a> directory\n",
    "- In the [data mining directory](data_mining) are located three custom packages:\n",
    "    - Configuration: for handling the yml configuration\n",
    "    - ColorizedLogger: For formatted logging that saves output in log files\n",
    "    - timeit: ContextManager&Decorator for timing functions and code blocks\n",
    "- The project was compiled using my Template **Cookiecutter** project: <a>https://github.com/drkostas/starter</a>"
   ]
  },
  {
   "cell_type": "markdown",
   "metadata": {},
   "source": [
    "### Load Libraries and configuration\n",
    "Configuration path: `confs/covid.yml`"
   ]
  },
  {
   "cell_type": "code",
   "execution_count": 3,
   "metadata": {},
   "outputs": [],
   "source": [
    "from data_mining import timeit, ColorizedLogger, Configuration"
   ]
  },
  {
   "cell_type": "code",
   "execution_count": 4,
   "metadata": {},
   "outputs": [],
   "source": [
    "import numpy as np\n",
    "import pandas as pd "
   ]
  },
  {
   "cell_type": "code",
   "execution_count": 5,
   "metadata": {},
   "outputs": [
    {
     "name": "stderr",
     "output_type": "stream",
     "text": [
      "2021-04-08 15:06:59 Config       INFO     \u001b[1m\u001b[37mConfiguration file loaded successfully from path: /home/drkostas/GDrive/Projects/UTK/COSC526-Project/confs/covid.yml\u001b[0m\n",
      "2021-04-08 15:06:59 Config       INFO     \u001b[1m\u001b[37mConfiguration Tag: project\u001b[0m\n"
     ]
    }
   ],
   "source": [
    "# Load the configuration\n",
    "conf_obj = Configuration(config_src='confs/covid.yml')\n",
    "covid_conf = conf_obj.get_config('covid-progress')[0]\n",
    "data_path = covid_conf['properties']['data_path']\n",
    "log_path = covid_conf['properties']['log_path']"
   ]
  },
  {
   "cell_type": "markdown",
   "metadata": {},
   "source": [
    "### Setup logging, Load the Dataset"
   ]
  },
  {
   "cell_type": "code",
   "execution_count": 6,
   "metadata": {},
   "outputs": [
    {
     "name": "stderr",
     "output_type": "stream",
     "text": [
      "2021-04-08 15:07:00 FancyLogger  INFO     \u001b[1m\u001b[37mLogger is set. Log file path: /home/drkostas/GDrive/Projects/UTK/COSC526-Project/logs/covid_progress.log\u001b[0m\n"
     ]
    }
   ],
   "source": [
    "# Setup the Logger\n",
    "logger = ColorizedLogger(logger_name='JupyterMain', color='yellow')\n",
    "ColorizedLogger.setup_logger(log_path=log_path, debug=False)"
   ]
  },
  {
   "cell_type": "code",
   "execution_count": 7,
   "metadata": {},
   "outputs": [
    {
     "name": "stderr",
     "output_type": "stream",
     "text": [
      "2021-04-08 15:07:16 JupyterMain  INFO     \u001b[1m\u001b[33mDataset loaded.\u001b[0m\n"
     ]
    }
   ],
   "source": [
    "# Load the dataset\n",
    "if covid_conf['type'] == 'csv':\n",
    "    covid_orig_df = pd.read_csv(data_path)\n",
    "    logger.info(\"Dataset loaded.\")\n",
    "else:\n",
    "    logger.error('Data type not supported!')\n"
   ]
  },
  {
   "cell_type": "code",
   "execution_count": 8,
   "metadata": {},
   "outputs": [
    {
     "name": "stderr",
     "output_type": "stream",
     "text": [
      "2021-04-08 15:07:19 JupyterMain  INFO     \u001b[1m\u001b[33mDataframe shape: (9576, 15)\u001b[0m\n"
     ]
    },
    {
     "name": "stdout",
     "output_type": "stream",
     "text": [
      "<class 'pandas.core.frame.DataFrame'>\n",
      "RangeIndex: 9576 entries, 0 to 9575\n",
      "Data columns (total 15 columns):\n",
      " #   Column                               Non-Null Count  Dtype  \n",
      "---  ------                               --------------  -----  \n",
      " 0   country                              9576 non-null   object \n",
      " 1   iso_code                             9576 non-null   object \n",
      " 2   date                                 9576 non-null   object \n",
      " 3   total_vaccinations                   5772 non-null   float64\n",
      " 4   people_vaccinated                    5167 non-null   float64\n",
      " 5   people_fully_vaccinated              3608 non-null   float64\n",
      " 6   daily_vaccinations_raw               4816 non-null   float64\n",
      " 7   daily_vaccinations                   9393 non-null   float64\n",
      " 8   total_vaccinations_per_hundred       5772 non-null   float64\n",
      " 9   people_vaccinated_per_hundred        5167 non-null   float64\n",
      " 10  people_fully_vaccinated_per_hundred  3608 non-null   float64\n",
      " 11  daily_vaccinations_per_million       9393 non-null   float64\n",
      " 12  vaccines                             9576 non-null   object \n",
      " 13  source_name                          9576 non-null   object \n",
      " 14  source_website                       9576 non-null   object \n",
      "dtypes: float64(9), object(6)\n",
      "memory usage: 1.1+ MB\n"
     ]
    }
   ],
   "source": [
    "# Print Columns info\n",
    "logger.info(f\"Dataframe shape: {covid_orig_df.shape}\")\n",
    "covid_orig_df.info()"
   ]
  },
  {
   "cell_type": "code",
   "execution_count": 9,
   "metadata": {},
   "outputs": [
    {
     "data": {
      "text/html": [
       "<div>\n",
       "<style scoped>\n",
       "    .dataframe tbody tr th:only-of-type {\n",
       "        vertical-align: middle;\n",
       "    }\n",
       "\n",
       "    .dataframe tbody tr th {\n",
       "        vertical-align: top;\n",
       "    }\n",
       "\n",
       "    .dataframe thead th {\n",
       "        text-align: right;\n",
       "    }\n",
       "</style>\n",
       "<table border=\"1\" class=\"dataframe\">\n",
       "  <thead>\n",
       "    <tr style=\"text-align: right;\">\n",
       "      <th></th>\n",
       "      <th>total_vaccinations</th>\n",
       "      <th>people_vaccinated</th>\n",
       "      <th>people_fully_vaccinated</th>\n",
       "      <th>daily_vaccinations_raw</th>\n",
       "      <th>daily_vaccinations</th>\n",
       "      <th>total_vaccinations_per_hundred</th>\n",
       "      <th>people_vaccinated_per_hundred</th>\n",
       "      <th>people_fully_vaccinated_per_hundred</th>\n",
       "      <th>daily_vaccinations_per_million</th>\n",
       "    </tr>\n",
       "  </thead>\n",
       "  <tbody>\n",
       "    <tr>\n",
       "      <th>count</th>\n",
       "      <td>5.772000e+03</td>\n",
       "      <td>5.167000e+03</td>\n",
       "      <td>3.608000e+03</td>\n",
       "      <td>4.816000e+03</td>\n",
       "      <td>9.393000e+03</td>\n",
       "      <td>5772.000000</td>\n",
       "      <td>5167.000000</td>\n",
       "      <td>3608.000000</td>\n",
       "      <td>9393.000000</td>\n",
       "    </tr>\n",
       "    <tr>\n",
       "      <th>mean</th>\n",
       "      <td>3.223423e+06</td>\n",
       "      <td>2.406510e+06</td>\n",
       "      <td>1.076638e+06</td>\n",
       "      <td>1.115403e+05</td>\n",
       "      <td>6.705204e+04</td>\n",
       "      <td>11.486305</td>\n",
       "      <td>8.540521</td>\n",
       "      <td>4.171486</td>\n",
       "      <td>2835.473651</td>\n",
       "    </tr>\n",
       "    <tr>\n",
       "      <th>std</th>\n",
       "      <td>1.198154e+07</td>\n",
       "      <td>8.122148e+06</td>\n",
       "      <td>4.359236e+06</td>\n",
       "      <td>4.026947e+05</td>\n",
       "      <td>2.645468e+05</td>\n",
       "      <td>19.689933</td>\n",
       "      <td>13.053528</td>\n",
       "      <td>8.765672</td>\n",
       "      <td>4994.852975</td>\n",
       "    </tr>\n",
       "    <tr>\n",
       "      <th>min</th>\n",
       "      <td>0.000000e+00</td>\n",
       "      <td>0.000000e+00</td>\n",
       "      <td>1.000000e+00</td>\n",
       "      <td>0.000000e+00</td>\n",
       "      <td>0.000000e+00</td>\n",
       "      <td>0.000000</td>\n",
       "      <td>0.000000</td>\n",
       "      <td>0.000000</td>\n",
       "      <td>0.000000</td>\n",
       "    </tr>\n",
       "    <tr>\n",
       "      <th>25%</th>\n",
       "      <td>4.589425e+04</td>\n",
       "      <td>4.177000e+04</td>\n",
       "      <td>1.999125e+04</td>\n",
       "      <td>2.972250e+03</td>\n",
       "      <td>9.730000e+02</td>\n",
       "      <td>0.870000</td>\n",
       "      <td>0.860000</td>\n",
       "      <td>0.440000</td>\n",
       "      <td>361.000000</td>\n",
       "    </tr>\n",
       "    <tr>\n",
       "      <th>50%</th>\n",
       "      <td>3.091255e+05</td>\n",
       "      <td>2.723230e+05</td>\n",
       "      <td>1.251490e+05</td>\n",
       "      <td>1.453950e+04</td>\n",
       "      <td>5.979000e+03</td>\n",
       "      <td>4.350000</td>\n",
       "      <td>3.520000</td>\n",
       "      <td>1.595000</td>\n",
       "      <td>1398.000000</td>\n",
       "    </tr>\n",
       "    <tr>\n",
       "      <th>75%</th>\n",
       "      <td>1.522704e+06</td>\n",
       "      <td>1.157205e+06</td>\n",
       "      <td>5.511082e+05</td>\n",
       "      <td>6.057000e+04</td>\n",
       "      <td>2.824500e+04</td>\n",
       "      <td>13.192500</td>\n",
       "      <td>9.950000</td>\n",
       "      <td>3.910000</td>\n",
       "      <td>3474.000000</td>\n",
       "    </tr>\n",
       "    <tr>\n",
       "      <th>max</th>\n",
       "      <td>1.616884e+08</td>\n",
       "      <td>1.042135e+08</td>\n",
       "      <td>5.985815e+07</td>\n",
       "      <td>7.185000e+06</td>\n",
       "      <td>5.190143e+06</td>\n",
       "      <td>180.780000</td>\n",
       "      <td>95.850000</td>\n",
       "      <td>84.930000</td>\n",
       "      <td>118759.000000</td>\n",
       "    </tr>\n",
       "  </tbody>\n",
       "</table>\n",
       "</div>"
      ],
      "text/plain": [
       "       total_vaccinations  people_vaccinated  people_fully_vaccinated  \\\n",
       "count        5.772000e+03       5.167000e+03             3.608000e+03   \n",
       "mean         3.223423e+06       2.406510e+06             1.076638e+06   \n",
       "std          1.198154e+07       8.122148e+06             4.359236e+06   \n",
       "min          0.000000e+00       0.000000e+00             1.000000e+00   \n",
       "25%          4.589425e+04       4.177000e+04             1.999125e+04   \n",
       "50%          3.091255e+05       2.723230e+05             1.251490e+05   \n",
       "75%          1.522704e+06       1.157205e+06             5.511082e+05   \n",
       "max          1.616884e+08       1.042135e+08             5.985815e+07   \n",
       "\n",
       "       daily_vaccinations_raw  daily_vaccinations  \\\n",
       "count            4.816000e+03        9.393000e+03   \n",
       "mean             1.115403e+05        6.705204e+04   \n",
       "std              4.026947e+05        2.645468e+05   \n",
       "min              0.000000e+00        0.000000e+00   \n",
       "25%              2.972250e+03        9.730000e+02   \n",
       "50%              1.453950e+04        5.979000e+03   \n",
       "75%              6.057000e+04        2.824500e+04   \n",
       "max              7.185000e+06        5.190143e+06   \n",
       "\n",
       "       total_vaccinations_per_hundred  people_vaccinated_per_hundred  \\\n",
       "count                     5772.000000                    5167.000000   \n",
       "mean                        11.486305                       8.540521   \n",
       "std                         19.689933                      13.053528   \n",
       "min                          0.000000                       0.000000   \n",
       "25%                          0.870000                       0.860000   \n",
       "50%                          4.350000                       3.520000   \n",
       "75%                         13.192500                       9.950000   \n",
       "max                        180.780000                      95.850000   \n",
       "\n",
       "       people_fully_vaccinated_per_hundred  daily_vaccinations_per_million  \n",
       "count                          3608.000000                     9393.000000  \n",
       "mean                              4.171486                     2835.473651  \n",
       "std                               8.765672                     4994.852975  \n",
       "min                               0.000000                        0.000000  \n",
       "25%                               0.440000                      361.000000  \n",
       "50%                               1.595000                     1398.000000  \n",
       "75%                               3.910000                     3474.000000  \n",
       "max                              84.930000                   118759.000000  "
      ]
     },
     "execution_count": 9,
     "metadata": {},
     "output_type": "execute_result"
    }
   ],
   "source": [
    "# Print the statistics of the Dataframe\n",
    "covid_orig_df.describe()"
   ]
  },
  {
   "cell_type": "code",
   "execution_count": 10,
   "metadata": {},
   "outputs": [
    {
     "data": {
      "text/html": [
       "<div>\n",
       "<style scoped>\n",
       "    .dataframe tbody tr th:only-of-type {\n",
       "        vertical-align: middle;\n",
       "    }\n",
       "\n",
       "    .dataframe tbody tr th {\n",
       "        vertical-align: top;\n",
       "    }\n",
       "\n",
       "    .dataframe thead th {\n",
       "        text-align: right;\n",
       "    }\n",
       "</style>\n",
       "<table border=\"1\" class=\"dataframe\">\n",
       "  <thead>\n",
       "    <tr style=\"text-align: right;\">\n",
       "      <th></th>\n",
       "      <th>country</th>\n",
       "      <th>iso_code</th>\n",
       "      <th>date</th>\n",
       "      <th>total_vaccinations</th>\n",
       "      <th>people_vaccinated</th>\n",
       "      <th>people_fully_vaccinated</th>\n",
       "      <th>daily_vaccinations_raw</th>\n",
       "      <th>daily_vaccinations</th>\n",
       "      <th>total_vaccinations_per_hundred</th>\n",
       "      <th>people_vaccinated_per_hundred</th>\n",
       "      <th>people_fully_vaccinated_per_hundred</th>\n",
       "      <th>daily_vaccinations_per_million</th>\n",
       "      <th>vaccines</th>\n",
       "      <th>source_name</th>\n",
       "      <th>source_website</th>\n",
       "    </tr>\n",
       "  </thead>\n",
       "  <tbody>\n",
       "    <tr>\n",
       "      <th>0</th>\n",
       "      <td>Afghanistan</td>\n",
       "      <td>AFG</td>\n",
       "      <td>2021-02-22</td>\n",
       "      <td>0.0</td>\n",
       "      <td>0.0</td>\n",
       "      <td>NaN</td>\n",
       "      <td>NaN</td>\n",
       "      <td>NaN</td>\n",
       "      <td>0.0</td>\n",
       "      <td>0.0</td>\n",
       "      <td>NaN</td>\n",
       "      <td>NaN</td>\n",
       "      <td>Oxford/AstraZeneca</td>\n",
       "      <td>Government of Afghanistan</td>\n",
       "      <td>http://www.xinhuanet.com/english/asiapacific/2...</td>\n",
       "    </tr>\n",
       "    <tr>\n",
       "      <th>1</th>\n",
       "      <td>Afghanistan</td>\n",
       "      <td>AFG</td>\n",
       "      <td>2021-02-23</td>\n",
       "      <td>NaN</td>\n",
       "      <td>NaN</td>\n",
       "      <td>NaN</td>\n",
       "      <td>NaN</td>\n",
       "      <td>1367.0</td>\n",
       "      <td>NaN</td>\n",
       "      <td>NaN</td>\n",
       "      <td>NaN</td>\n",
       "      <td>35.0</td>\n",
       "      <td>Oxford/AstraZeneca</td>\n",
       "      <td>Government of Afghanistan</td>\n",
       "      <td>http://www.xinhuanet.com/english/asiapacific/2...</td>\n",
       "    </tr>\n",
       "  </tbody>\n",
       "</table>\n",
       "</div>"
      ],
      "text/plain": [
       "       country iso_code        date  total_vaccinations  people_vaccinated  \\\n",
       "0  Afghanistan      AFG  2021-02-22                 0.0                0.0   \n",
       "1  Afghanistan      AFG  2021-02-23                 NaN                NaN   \n",
       "\n",
       "   people_fully_vaccinated  daily_vaccinations_raw  daily_vaccinations  \\\n",
       "0                      NaN                     NaN                 NaN   \n",
       "1                      NaN                     NaN              1367.0   \n",
       "\n",
       "   total_vaccinations_per_hundred  people_vaccinated_per_hundred  \\\n",
       "0                             0.0                            0.0   \n",
       "1                             NaN                            NaN   \n",
       "\n",
       "   people_fully_vaccinated_per_hundred  daily_vaccinations_per_million  \\\n",
       "0                                  NaN                             NaN   \n",
       "1                                  NaN                            35.0   \n",
       "\n",
       "             vaccines                source_name  \\\n",
       "0  Oxford/AstraZeneca  Government of Afghanistan   \n",
       "1  Oxford/AstraZeneca  Government of Afghanistan   \n",
       "\n",
       "                                      source_website  \n",
       "0  http://www.xinhuanet.com/english/asiapacific/2...  \n",
       "1  http://www.xinhuanet.com/english/asiapacific/2...  "
      ]
     },
     "execution_count": 10,
     "metadata": {},
     "output_type": "execute_result"
    }
   ],
   "source": [
    "# Print the first two rows\n",
    "covid_orig_df.head(n=2)"
   ]
  },
  {
   "cell_type": "code",
   "execution_count": 28,
   "metadata": {},
   "outputs": [
    {
     "name": "stderr",
     "output_type": "stream",
     "text": [
      "2021-04-04 23:58:34 Main         INFO     \u001b[1m\u001b[33mCountry Value Counts:\n",
      "Northern Ireland    111\n",
      "Scotland            111\n",
      "Canada              111\n",
      "England             111\n",
      "United Kingdom      111\n",
      "                   ... \n",
      "Palestine             5\n",
      "Mali                  4\n",
      "Bahamas               2\n",
      "Brunei                2\n",
      "Laos                  1\n",
      "Name: country, Length: 166, dtype: int64\u001b[0m\n",
      "2021-04-04 23:58:34 Main         INFO     \u001b[1m\u001b[33mVaccines Value Counts:\n",
      "Moderna, Oxford/AstraZeneca, Pfizer/BioNTech                                          2255\n",
      "Pfizer/BioNTech                                                                       1435\n",
      "Oxford/AstraZeneca                                                                    1331\n",
      "Oxford/AstraZeneca, Pfizer/BioNTech                                                   1154\n",
      "Pfizer/BioNTech, Sinovac                                                               426\n",
      "Sputnik V                                                                              388\n",
      "Moderna, Pfizer/BioNTech                                                               370\n",
      "Oxford/AstraZeneca, Sinovac                                                            268\n",
      "Sinopharm/Beijing                                                                      246\n",
      "Oxford/AstraZeneca, Pfizer/BioNTech, Sinopharm/Beijing, Sputnik V                      187\n",
      "Oxford/AstraZeneca, Sinopharm/Beijing                                                  178\n",
      "Oxford/AstraZeneca, Sinopharm/Beijing, Sputnik V                                       154\n",
      "Pfizer/BioNTech, Sinopharm/Beijing                                                     133\n",
      "Oxford/AstraZeneca, Pfizer/BioNTech, Sinovac                                           115\n",
      "EpiVacCorona, Sputnik V                                                                110\n",
      "Sinopharm/Beijing, Sinopharm/Wuhan, Sinovac                                            109\n",
      "Johnson&Johnson, Moderna, Pfizer/BioNTech                                              105\n",
      "Oxford/AstraZeneca, Pfizer/BioNTech, Sputnik V                                         101\n",
      "Moderna, Oxford/AstraZeneca, Pfizer/BioNTech, Sinopharm/Beijing, Sputnik V              96\n",
      "Oxford/AstraZeneca, Pfizer/BioNTech, Sinopharm/Beijing, Sinopharm/Wuhan, Sputnik V      89\n",
      "Covaxin, Oxford/AstraZeneca                                                             79\n",
      "Sinovac                                                                                 77\n",
      "Johnson&Johnson                                                                         45\n",
      "Sinopharm/Beijing, Sputnik V                                                            44\n",
      "Moderna                                                                                 37\n",
      "Moderna, Oxford/AstraZeneca                                                             22\n",
      "Pfizer/BioNTech, Sinovac, Sputnik V                                                     22\n",
      "Name: vaccines, dtype: int64\u001b[0m\n",
      "2021-04-04 23:58:34 Main         INFO     \u001b[1m\u001b[33mDate Value Counts:\n",
      "2021-03-18    146\n",
      "2021-03-17    146\n",
      "2021-03-19    145\n",
      "2021-03-15    143\n",
      "2021-03-16    143\n",
      "             ... \n",
      "2020-12-18      8\n",
      "2020-12-15      8\n",
      "2020-12-17      8\n",
      "2020-12-14      6\n",
      "2020-12-13      5\n",
      "Name: date, Length: 112, dtype: int64\u001b[0m\n"
     ]
    }
   ],
   "source": [
    "# Print Value counts for selected columns\n",
    "logger.info(f\"Country Value Counts:\\n{covid_orig_df['country'].value_counts()}\")\n",
    "logger.info(f\"Vaccines Value Counts:\\n{covid_orig_df['vaccines'].value_counts()}\")\n",
    "logger.info(f\"Date Value Counts:\\n{covid_orig_df['date'].value_counts()}\")"
   ]
  },
  {
   "cell_type": "code",
   "execution_count": null,
   "metadata": {},
   "outputs": [],
   "source": [
    "# Drop Uneccessary columns\n"
   ]
  }
 ],
 "metadata": {
  "kernelspec": {
   "display_name": "Python 3",
   "language": "python",
   "name": "python3"
  },
  "language_info": {
   "codemirror_mode": {
    "name": "ipython",
    "version": 3
   },
   "file_extension": ".py",
   "mimetype": "text/x-python",
   "name": "python",
   "nbconvert_exporter": "python",
   "pygments_lexer": "ipython3",
   "version": "3.8.8"
  }
 },
 "nbformat": 4,
 "nbformat_minor": 1
}
